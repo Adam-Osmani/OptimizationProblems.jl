{
 "cells": [
  {
   "cell_type": "code",
   "execution_count": 1,
   "id": "d0179588",
   "metadata": {},
   "outputs": [],
   "source": [
    "using JuMP, Ipopt, MathOptInterface, NLPModels, NLPModelsJuMP, ADNLPModels, NLPModelsIpopt"
   ]
  },
  {
   "cell_type": "code",
   "execution_count": 2,
   "id": "d6867336",
   "metadata": {},
   "outputs": [
    {
     "data": {
      "text/plain": [
       "helical (generic function with 1 method)"
      ]
     },
     "execution_count": 2,
     "metadata": {},
     "output_type": "execute_result"
    }
   ],
   "source": [
    "#   Source: problem 7 in\n",
    "#   J.J. More', B.S. Garbow and K.E. Hillstrom,\n",
    "#   \"Testing Unconstrained Optimization Software\",\n",
    "#   ACM Transactions on Mathematical Software, vol. 7(1), pp. 17-41, 1981.\n",
    "\n",
    "export helical\n",
    "\n",
    "function helical()\n",
    "  nlp = Model()\n",
    "  x0 = [-1.0; 0.0;0.0]\n",
    "  @variable(nlp,x[i=1:3], start=x0[i])\n",
    "  @NLobjective(nlp,Min,(10*(x[3]-10*(atan(x[2]/x[1])-0.25*(x[1]-abs(x[1])/x[1]))/(2*pi)))^2+(10*(sqrt(x[1]^2+x[2]^2)-1))^2+x[3]^2)\n",
    "  return nlp\n",
    "end"
   ]
  },
  {
   "cell_type": "code",
   "execution_count": 3,
   "id": "7e48b4c1",
   "metadata": {},
   "outputs": [
    {
     "data": {
      "text/plain": [
       "helical (generic function with 1 method)"
      ]
     },
     "execution_count": 3,
     "metadata": {},
     "output_type": "execute_result"
    }
   ],
   "source": [
    "export helical\n",
    "\n",
    "function helical(; n::Int = default_nvar, type::Val{T} = Val(Float64), kwargs...) where {T}\n",
    "  function f(x)\n",
    "    return (10*(x[3]-10*(atan(x[2]/x[1])-one(T)/4*(x[1]-abs(x[1])/x[1]))/(2*T(pi))))^2+(10*(sqrt(x[1]^2+x[2]^2)-1))^2+x[3]^2\n",
    "  end\n",
    "  x0 = T[-1; 0; 0]\n",
    "  return ADNLPModels.ADNLPModel(f, x0, name = \"helical\"; kwargs...)\n",
    "end"
   ]
  },
  {
   "cell_type": "code",
   "execution_count": null,
   "id": "db9aef77",
   "metadata": {},
   "outputs": [],
   "source": [
    "helical_meta = Dict(\n",
    "  :nvar => 3,\n",
    "  :variable_nvar => false,\n",
    "  :ncon => 0,\n",
    "  :variable_ncon => false,\n",
    "  :minimize => true,\n",
    "  :name => \"helical\",\n",
    "  :has_equalities_only => false,\n",
    "  :has_inequalities_only => false,\n",
    "  :has_bounds => false,\n",
    "  :has_fixed_variables => false,\n",
    "  :objtype => :other,\n",
    "  :contype => :unconstrained,\n",
    "  :best_known_lower_bound => -Inf,\n",
    "  :best_known_upper_bound => 0.0,\n",
    "  :is_feasible => true,\n",
    "  :defined_everywhere => missing,\n",
    "  :origin => :unknown,\n",
    ")\n",
    "get_helical_nvar(; n::Integer = default_nvar, kwargs...) = 3\n",
    "get_helical_ncon(; n::Integer = default_nvar, kwargs...) = 0\n",
    "get_helical_nlin(; n::Integer = default_nvar, kwargs...) = 0\n",
    "get_helical_nnln(; n::Integer = default_nvar, kwargs...) = 0\n",
    "get_helical_nequ(; n::Integer = default_nvar, kwargs...) = 0\n",
    "get_helical_nineq(; n::Integer = default_nvar, kwargs...) = 0"
   ]
  }
 ],
 "metadata": {
  "kernelspec": {
   "display_name": "Julia 1.7.1",
   "language": "julia",
   "name": "julia-1.7"
  },
  "language_info": {
   "file_extension": ".jl",
   "mimetype": "application/julia",
   "name": "julia",
   "version": "1.7.1"
  }
 },
 "nbformat": 4,
 "nbformat_minor": 5
}
